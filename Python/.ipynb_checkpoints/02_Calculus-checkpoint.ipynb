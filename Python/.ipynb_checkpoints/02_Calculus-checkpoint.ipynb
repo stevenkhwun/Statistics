{
 "cells": [
  {
   "cell_type": "markdown",
   "id": "c4858e20-5e06-4f9a-9a64-4aca7e784386",
   "metadata": {},
   "source": [
    "# Calculus\n",
    "\n",
    "* Use `limit()` function in `SymPy` to calculate limits \n",
    "  * 2D plots\n",
    "  * 3D plots using `plot3d()` function\n",
    "* Summations\n",
    "  * using the `range()` function\n",
    "  * using `SymPy`\n",
    "* Logarithm\n",
    "  * using `log()` function from `math` library\n",
    "  * using `log()` function from `SymPy` library\n",
    "* Calculating continuous interest using `exp()` function"
   ]
  },
  {
   "cell_type": "markdown",
   "id": "a76fac05-a260-41bc-9e82-b8b0d4a9e171",
   "metadata": {},
   "source": [
    "## Limits"
   ]
  },
  {
   "cell_type": "code",
   "execution_count": 2,
   "id": "3d16d3c2-a16c-415d-a5ea-945a5e57df95",
   "metadata": {},
   "outputs": [
    {
     "name": "stdout",
     "output_type": "stream",
     "text": [
      "0\n"
     ]
    }
   ],
   "source": [
    "# Using SymPy to calculate limits\n",
    "from sympy import *\n",
    "x = symbols('x')\n",
    "f = 1 / x\n",
    "result = limit(f, x, oo)     # oo stands for infinity\n",
    "print(result)"
   ]
  },
  {
   "cell_type": "code",
   "execution_count": 4,
   "id": "4f6c6c11-9a30-47ad-a712-9dcf6754b901",
   "metadata": {},
   "outputs": [
    {
     "name": "stdout",
     "output_type": "stream",
     "text": [
      "E\n"
     ]
    }
   ],
   "source": [
    "# Calculate Euler's number with limits in SymPy\n",
    "n = symbols('n')\n",
    "f = (1 + (1/n))**n\n",
    "result = limit(f, n, oo)\n",
    "print(result)"
   ]
  },
  {
   "cell_type": "code",
   "execution_count": 5,
   "id": "6cecdf40-cb72-4904-91fe-782c1863a539",
   "metadata": {},
   "outputs": [
    {
     "name": "stdout",
     "output_type": "stream",
     "text": [
      "2.71828182845905\n"
     ]
    }
   ],
   "source": [
    "print(result.evalf())"
   ]
  },
  {
   "cell_type": "code",
   "execution_count": null,
   "id": "f4bc12e5-7755-4093-8c4b-cb5a71c08d06",
   "metadata": {},
   "outputs": [],
   "source": []
  }
 ],
 "metadata": {
  "kernelspec": {
   "display_name": "Python 3 (ipykernel)",
   "language": "python",
   "name": "python3"
  },
  "language_info": {
   "codemirror_mode": {
    "name": "ipython",
    "version": 3
   },
   "file_extension": ".py",
   "mimetype": "text/x-python",
   "name": "python",
   "nbconvert_exporter": "python",
   "pygments_lexer": "ipython3",
   "version": "3.11.5"
  }
 },
 "nbformat": 4,
 "nbformat_minor": 5
}
