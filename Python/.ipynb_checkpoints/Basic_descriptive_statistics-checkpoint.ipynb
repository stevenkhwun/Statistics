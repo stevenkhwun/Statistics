{
 "cells": [
  {
   "cell_type": "markdown",
   "metadata": {
    "colab_type": "text",
    "id": "view-in-github"
   },
   "source": [
    "<a href=\"https://colab.research.google.com/github/stevenkhwun/P4DS/blob/main/Chp02.ipynb\" target=\"_parent\"><img src=\"https://colab.research.google.com/assets/colab-badge.svg\" alt=\"Open In Colab\"/></a>"
   ]
  },
  {
   "cell_type": "markdown",
   "metadata": {
    "id": "rldDQ_4l1HKT"
   },
   "source": [
    "# Basic descriptive statistics\n",
    "\n",
    "__A copy of this notebook has been moved to `Statistics/Python` repository on 26 December 2023. The notebook will be kept here for sometime until deleted.__ \n",
    "\n",
    "The following demonstrates calculation of some common descriptive statistics, which includes mean, trimmed mean, weighted mean, weighted median, sample standard deviation, interquartile range (IQR) and median absolute deviation from the median (MAD).\n",
    "\n",
    "We import the data as a pandas dataframe as the pandas dataframe methods, that is the `.method()`, can easily provide the mean, median, sample standard deviation and quantiles.\n",
    "\n",
    "For trimmed mean, we need to use the `trim_mean` function in `scipy.stats`. For weighted mean, we use `average` function in `NumPy`. For weighted median, we use the specialized package `wquantiles`. And for MAD, we need the `robust` module in the package `statsmodels`.\n",
    "\n",
    "Firstly, we need to install the `wquantiles` package as this is not included in the base Colab environment."
   ]
  },
  {
   "cell_type": "code",
   "execution_count": null,
   "metadata": {
    "colab": {
     "base_uri": "https://localhost:8080/"
    },
    "id": "MRt_YdHkxuLc",
    "outputId": "44790b52-8aa0-4e7a-a469-9daac082f259"
   },
   "outputs": [
    {
     "name": "stdout",
     "output_type": "stream",
     "text": [
      "Looking in indexes: https://pypi.org/simple, https://us-python.pkg.dev/colab-wheels/public/simple/\n",
      "Collecting wquantiles\n",
      "  Downloading wquantiles-0.6-py3-none-any.whl (3.3 kB)\n",
      "Requirement already satisfied: numpy>=1.18 in /usr/local/lib/python3.9/dist-packages (from wquantiles) (1.22.4)\n",
      "Installing collected packages: wquantiles\n",
      "Successfully installed wquantiles-0.6\n"
     ]
    }
   ],
   "source": [
    "# Install the package \"wquantiles\"\n",
    "!pip install wquantiles"
   ]
  },
  {
   "cell_type": "markdown",
   "metadata": {
    "id": "xb8Gah4P7eJd"
   },
   "source": [
    "We now import the necessary packages:"
   ]
  },
  {
   "cell_type": "code",
   "execution_count": null,
   "metadata": {
    "id": "mIuWCcb21c56"
   },
   "outputs": [],
   "source": [
    "# Import necessary packages\n",
    "import pandas as pd\n",
    "import numpy as np\n",
    "import scipy.stats\n",
    "import wquantiles\n",
    "from statsmodels import robust"
   ]
  },
  {
   "cell_type": "markdown",
   "metadata": {
    "id": "Y6J-Jf1Z7lZD"
   },
   "source": [
    "We now load the data as a pandas dataframe:"
   ]
  },
  {
   "cell_type": "code",
   "execution_count": null,
   "metadata": {
    "colab": {
     "base_uri": "https://localhost:8080/",
     "height": 206
    },
    "id": "FneRRgoewBGS",
    "outputId": "b989fca7-d64d-4686-9399-b05655f0ec03"
   },
   "outputs": [
    {
     "data": {
      "text/html": [
       "\n",
       "  <div id=\"df-dffa3d8d-5507-4cbb-914f-9e78a007e1c2\">\n",
       "    <div class=\"colab-df-container\">\n",
       "      <div>\n",
       "<style scoped>\n",
       "    .dataframe tbody tr th:only-of-type {\n",
       "        vertical-align: middle;\n",
       "    }\n",
       "\n",
       "    .dataframe tbody tr th {\n",
       "        vertical-align: top;\n",
       "    }\n",
       "\n",
       "    .dataframe thead th {\n",
       "        text-align: right;\n",
       "    }\n",
       "</style>\n",
       "<table border=\"1\" class=\"dataframe\">\n",
       "  <thead>\n",
       "    <tr style=\"text-align: right;\">\n",
       "      <th></th>\n",
       "      <th>State</th>\n",
       "      <th>Population</th>\n",
       "      <th>Murder.Rate</th>\n",
       "      <th>Abbreviation</th>\n",
       "    </tr>\n",
       "  </thead>\n",
       "  <tbody>\n",
       "    <tr>\n",
       "      <th>0</th>\n",
       "      <td>Alabama</td>\n",
       "      <td>4779736</td>\n",
       "      <td>5.7</td>\n",
       "      <td>AL</td>\n",
       "    </tr>\n",
       "    <tr>\n",
       "      <th>1</th>\n",
       "      <td>Alaska</td>\n",
       "      <td>710231</td>\n",
       "      <td>5.6</td>\n",
       "      <td>AK</td>\n",
       "    </tr>\n",
       "    <tr>\n",
       "      <th>2</th>\n",
       "      <td>Arizona</td>\n",
       "      <td>6392017</td>\n",
       "      <td>4.7</td>\n",
       "      <td>AZ</td>\n",
       "    </tr>\n",
       "    <tr>\n",
       "      <th>3</th>\n",
       "      <td>Arkansas</td>\n",
       "      <td>2915918</td>\n",
       "      <td>5.6</td>\n",
       "      <td>AR</td>\n",
       "    </tr>\n",
       "    <tr>\n",
       "      <th>4</th>\n",
       "      <td>California</td>\n",
       "      <td>37253956</td>\n",
       "      <td>4.4</td>\n",
       "      <td>CA</td>\n",
       "    </tr>\n",
       "  </tbody>\n",
       "</table>\n",
       "</div>\n",
       "      <button class=\"colab-df-convert\" onclick=\"convertToInteractive('df-dffa3d8d-5507-4cbb-914f-9e78a007e1c2')\"\n",
       "              title=\"Convert this dataframe to an interactive table.\"\n",
       "              style=\"display:none;\">\n",
       "        \n",
       "  <svg xmlns=\"http://www.w3.org/2000/svg\" height=\"24px\"viewBox=\"0 0 24 24\"\n",
       "       width=\"24px\">\n",
       "    <path d=\"M0 0h24v24H0V0z\" fill=\"none\"/>\n",
       "    <path d=\"M18.56 5.44l.94 2.06.94-2.06 2.06-.94-2.06-.94-.94-2.06-.94 2.06-2.06.94zm-11 1L8.5 8.5l.94-2.06 2.06-.94-2.06-.94L8.5 2.5l-.94 2.06-2.06.94zm10 10l.94 2.06.94-2.06 2.06-.94-2.06-.94-.94-2.06-.94 2.06-2.06.94z\"/><path d=\"M17.41 7.96l-1.37-1.37c-.4-.4-.92-.59-1.43-.59-.52 0-1.04.2-1.43.59L10.3 9.45l-7.72 7.72c-.78.78-.78 2.05 0 2.83L4 21.41c.39.39.9.59 1.41.59.51 0 1.02-.2 1.41-.59l7.78-7.78 2.81-2.81c.8-.78.8-2.07 0-2.86zM5.41 20L4 18.59l7.72-7.72 1.47 1.35L5.41 20z\"/>\n",
       "  </svg>\n",
       "      </button>\n",
       "      \n",
       "  <style>\n",
       "    .colab-df-container {\n",
       "      display:flex;\n",
       "      flex-wrap:wrap;\n",
       "      gap: 12px;\n",
       "    }\n",
       "\n",
       "    .colab-df-convert {\n",
       "      background-color: #E8F0FE;\n",
       "      border: none;\n",
       "      border-radius: 50%;\n",
       "      cursor: pointer;\n",
       "      display: none;\n",
       "      fill: #1967D2;\n",
       "      height: 32px;\n",
       "      padding: 0 0 0 0;\n",
       "      width: 32px;\n",
       "    }\n",
       "\n",
       "    .colab-df-convert:hover {\n",
       "      background-color: #E2EBFA;\n",
       "      box-shadow: 0px 1px 2px rgba(60, 64, 67, 0.3), 0px 1px 3px 1px rgba(60, 64, 67, 0.15);\n",
       "      fill: #174EA6;\n",
       "    }\n",
       "\n",
       "    [theme=dark] .colab-df-convert {\n",
       "      background-color: #3B4455;\n",
       "      fill: #D2E3FC;\n",
       "    }\n",
       "\n",
       "    [theme=dark] .colab-df-convert:hover {\n",
       "      background-color: #434B5C;\n",
       "      box-shadow: 0px 1px 3px 1px rgba(0, 0, 0, 0.15);\n",
       "      filter: drop-shadow(0px 1px 2px rgba(0, 0, 0, 0.3));\n",
       "      fill: #FFFFFF;\n",
       "    }\n",
       "  </style>\n",
       "\n",
       "      <script>\n",
       "        const buttonEl =\n",
       "          document.querySelector('#df-dffa3d8d-5507-4cbb-914f-9e78a007e1c2 button.colab-df-convert');\n",
       "        buttonEl.style.display =\n",
       "          google.colab.kernel.accessAllowed ? 'block' : 'none';\n",
       "\n",
       "        async function convertToInteractive(key) {\n",
       "          const element = document.querySelector('#df-dffa3d8d-5507-4cbb-914f-9e78a007e1c2');\n",
       "          const dataTable =\n",
       "            await google.colab.kernel.invokeFunction('convertToInteractive',\n",
       "                                                     [key], {});\n",
       "          if (!dataTable) return;\n",
       "\n",
       "          const docLinkHtml = 'Like what you see? Visit the ' +\n",
       "            '<a target=\"_blank\" href=https://colab.research.google.com/notebooks/data_table.ipynb>data table notebook</a>'\n",
       "            + ' to learn more about interactive tables.';\n",
       "          element.innerHTML = '';\n",
       "          dataTable['output_type'] = 'display_data';\n",
       "          await google.colab.output.renderOutput(dataTable, element);\n",
       "          const docLink = document.createElement('div');\n",
       "          docLink.innerHTML = docLinkHtml;\n",
       "          element.appendChild(docLink);\n",
       "        }\n",
       "      </script>\n",
       "    </div>\n",
       "  </div>\n",
       "  "
      ],
      "text/plain": [
       "        State  Population  Murder.Rate Abbreviation\n",
       "0     Alabama     4779736          5.7           AL\n",
       "1      Alaska      710231          5.6           AK\n",
       "2     Arizona     6392017          4.7           AZ\n",
       "3    Arkansas     2915918          5.6           AR\n",
       "4  California    37253956          4.4           CA"
      ]
     },
     "execution_count": 12,
     "metadata": {},
     "output_type": "execute_result"
    }
   ],
   "source": [
    "# Load the dataset as pandas dataframe\n",
    "link = \"https://raw.githubusercontent.com/stevenkhwun/P4DS/main/Data/state.csv\"\n",
    "state = pd.read_csv(link)\n",
    "state.head()"
   ]
  },
  {
   "cell_type": "markdown",
   "metadata": {
    "id": "q--mDIyC7uch"
   },
   "source": [
    "## Mean"
   ]
  },
  {
   "cell_type": "code",
   "execution_count": null,
   "metadata": {
    "colab": {
     "base_uri": "https://localhost:8080/"
    },
    "id": "Ip-PyOgbwVHU",
    "outputId": "60450e3d-87ec-473c-f58e-b754e50883af"
   },
   "outputs": [
    {
     "data": {
      "text/plain": [
       "6162876.3"
      ]
     },
     "execution_count": 47,
     "metadata": {},
     "output_type": "execute_result"
    }
   ],
   "source": [
    "# Mean by pandas dataframe method\n",
    "state['Population'].mean()"
   ]
  },
  {
   "cell_type": "markdown",
   "metadata": {
    "id": "aVAGz4yZ76qo"
   },
   "source": [
    "## Trimmed mean"
   ]
  },
  {
   "cell_type": "code",
   "execution_count": null,
   "metadata": {
    "colab": {
     "base_uri": "https://localhost:8080/"
    },
    "id": "Kl6H-fdNwdjs",
    "outputId": "3379c309-835e-493d-f72c-0bbcd26a0b01"
   },
   "outputs": [
    {
     "data": {
      "text/plain": [
       "4783697.125"
      ]
     },
     "execution_count": 48,
     "metadata": {},
     "output_type": "execute_result"
    }
   ],
   "source": [
    "# Trimmed mean using the scipy.stats package\n",
    "scipy.stats.trim_mean(state['Population'], 0.1)"
   ]
  },
  {
   "cell_type": "markdown",
   "metadata": {
    "id": "-PQDOeg68HPI"
   },
   "source": [
    "## Median"
   ]
  },
  {
   "cell_type": "code",
   "execution_count": null,
   "metadata": {
    "colab": {
     "base_uri": "https://localhost:8080/"
    },
    "id": "f8_79hYI5yLj",
    "outputId": "ac0dc5c1-aebe-424a-ccb3-facfbbeac874"
   },
   "outputs": [
    {
     "data": {
      "text/plain": [
       "4436369.5"
      ]
     },
     "execution_count": 49,
     "metadata": {},
     "output_type": "execute_result"
    }
   ],
   "source": [
    "# Median by pandas dataframe method\n",
    "state['Population'].median()"
   ]
  },
  {
   "cell_type": "markdown",
   "metadata": {
    "id": "clZ5-yBQ1pru"
   },
   "source": [
    "## Weighted mean"
   ]
  },
  {
   "cell_type": "code",
   "execution_count": null,
   "metadata": {
    "colab": {
     "base_uri": "https://localhost:8080/"
    },
    "id": "OaVev7xE2Bn7",
    "outputId": "b97f5d50-3b99-4808-b922-6520e57ecb24"
   },
   "outputs": [
    {
     "data": {
      "text/plain": [
       "4.445833981123393"
      ]
     },
     "execution_count": 50,
     "metadata": {},
     "output_type": "execute_result"
    }
   ],
   "source": [
    "# Weighted mean by average function in NumPy\n",
    "np.average(state['Murder.Rate'], weights=state['Population'])"
   ]
  },
  {
   "cell_type": "markdown",
   "metadata": {
    "id": "oFQfKsQv2gvh"
   },
   "source": [
    "## Weighted median"
   ]
  },
  {
   "cell_type": "code",
   "execution_count": null,
   "metadata": {
    "colab": {
     "base_uri": "https://localhost:8080/"
    },
    "id": "3mvhuMrgwNXO",
    "outputId": "b6adc4d0-4594-479d-d4e8-8db2f969e8a2"
   },
   "outputs": [
    {
     "data": {
      "text/plain": [
       "4.4"
      ]
     },
     "execution_count": 51,
     "metadata": {},
     "output_type": "execute_result"
    }
   ],
   "source": [
    "# Weighted median by median function in wquantiles\n",
    "wquantiles.median(state['Murder.Rate'], weights=state['Population'])"
   ]
  },
  {
   "cell_type": "markdown",
   "metadata": {
    "id": "1uM5ZGr49RQ3"
   },
   "source": [
    "## Standard deviation\n",
    "\n",
    "Note that the result is a sample standard deviation."
   ]
  },
  {
   "cell_type": "code",
   "execution_count": null,
   "metadata": {
    "colab": {
     "base_uri": "https://localhost:8080/"
    },
    "id": "O2LaZcewzM-5",
    "outputId": "dd8f454c-81b8-4fd5-c35f-5d8b21a2c407"
   },
   "outputs": [
    {
     "data": {
      "text/plain": [
       "6848235.347401142"
      ]
     },
     "execution_count": 52,
     "metadata": {},
     "output_type": "execute_result"
    }
   ],
   "source": [
    "# Sample standard deviation by pandas datafram method\n",
    "state['Population'].std()"
   ]
  },
  {
   "cell_type": "code",
   "execution_count": null,
   "metadata": {
    "colab": {
     "base_uri": "https://localhost:8080/"
    },
    "id": "z7GfWNblz1k7",
    "outputId": "ee5171b2-06f1-4fa7-ad64-bdf198638a3d"
   },
   "outputs": [
    {
     "data": {
      "text/plain": [
       "0    34.311806\n",
       "dtype: float64"
      ]
     },
     "execution_count": 53,
     "metadata": {},
     "output_type": "execute_result"
    }
   ],
   "source": [
    "data = [2, 9, 12, 19, 86]\n",
    "datadf = pd.DataFrame (data)\n",
    "datadf.std()"
   ]
  },
  {
   "cell_type": "markdown",
   "metadata": {
    "id": "EToN9aaZ9iHv"
   },
   "source": [
    "## Interquartile range (IQR)"
   ]
  },
  {
   "cell_type": "code",
   "execution_count": null,
   "metadata": {
    "colab": {
     "base_uri": "https://localhost:8080/"
    },
    "id": "8HtZOdFH1xE3",
    "outputId": "aa71f735-c863-4f2a-afb3-9631bafbc1f2"
   },
   "outputs": [
    {
     "data": {
      "text/plain": [
       "4847308.0"
      ]
     },
     "execution_count": 54,
     "metadata": {},
     "output_type": "execute_result"
    }
   ],
   "source": [
    "# Interquartile range (IQR) by pandas dataframe method\n",
    "state['Population'].quantile(0.75) - state['Population'].quantile(0.25)"
   ]
  },
  {
   "cell_type": "markdown",
   "metadata": {
    "id": "Z0FMzPFw9zzC"
   },
   "source": [
    "## Absolute deviation from the median (MAD)"
   ]
  },
  {
   "cell_type": "code",
   "execution_count": null,
   "metadata": {
    "colab": {
     "base_uri": "https://localhost:8080/"
    },
    "id": "ICHAMfgS2GF9",
    "outputId": "bd0b5a80-fabb-4241-8478-d201ffb21fbf"
   },
   "outputs": [
    {
     "data": {
      "text/plain": [
       "3849876.1459979336"
      ]
     },
     "execution_count": 55,
     "metadata": {},
     "output_type": "execute_result"
    }
   ],
   "source": [
    "# MAD by robust function in statsmodels package\n",
    "robust.mad(state['Population'])"
   ]
  },
  {
   "cell_type": "markdown",
   "metadata": {
    "id": "QWr42UM22bgk"
   },
   "source": [
    "# Built-in functions for descriptive statistics"
   ]
  },
  {
   "cell_type": "markdown",
   "metadata": {
    "id": "Lh-kBRTv2orn"
   },
   "source": [
    "## Maximum function `max()` and minimun function `min()`\n",
    "\n",
    "These functions can be apply to tuples, lists and pandas dataframe."
   ]
  },
  {
   "cell_type": "code",
   "execution_count": null,
   "metadata": {
    "colab": {
     "base_uri": "https://localhost:8080/"
    },
    "id": "FuP97rGW2hms",
    "outputId": "6b2ec9dc-3e7c-484b-d302-0407991bd305"
   },
   "outputs": [
    {
     "data": {
      "text/plain": [
       "36"
      ]
     },
     "execution_count": 15,
     "metadata": {},
     "output_type": "execute_result"
    }
   ],
   "source": [
    "# Maximun function max() apply to a tuple\n",
    "max(36, 27, 12)"
   ]
  },
  {
   "cell_type": "code",
   "execution_count": null,
   "metadata": {
    "colab": {
     "base_uri": "https://localhost:8080/"
    },
    "id": "H8nRNd523d3E",
    "outputId": "27cf9b43-5b74-4a58-8ec0-f0b9fec9639a"
   },
   "outputs": [
    {
     "data": {
      "text/plain": [
       "12"
      ]
     },
     "execution_count": 14,
     "metadata": {},
     "output_type": "execute_result"
    }
   ],
   "source": [
    "# Minimum function min() apply to a list\n",
    "min([36, 27, 12])"
   ]
  },
  {
   "cell_type": "code",
   "execution_count": null,
   "metadata": {
    "colab": {
     "base_uri": "https://localhost:8080/"
    },
    "id": "AUHnXi3232xP",
    "outputId": "d2d6c870-8109-48d1-843f-33c6e5e4bc9e"
   },
   "outputs": [
    {
     "data": {
      "text/plain": [
       "37253956"
      ]
     },
     "execution_count": 13,
     "metadata": {},
     "output_type": "execute_result"
    }
   ],
   "source": [
    "# Maximun function max() apply to a pandas dataframe\n",
    "max(state['Population'])"
   ]
  },
  {
   "cell_type": "markdown",
   "metadata": {
    "id": "zczJcbLX5Vlk"
   },
   "source": [
    "## `sum()` and `len()`\n",
    "\n",
    "The Python’s built-in function `sum()` is an efficient way to sum a list of numeric values.\n",
    "\n",
    "The Python’s built-in functions `len()` returns the length of an object. For example, it can return the number of items in a list. You can use the function with many different data types. However, not all data types are valid arguments for `len()`."
   ]
  },
  {
   "cell_type": "code",
   "execution_count": null,
   "metadata": {
    "id": "FQ4HKtfA6l5p"
   },
   "outputs": [],
   "source": [
    "# Creates a list grades\n",
    "grades = [85, 93, 45, 89, 85]"
   ]
  },
  {
   "cell_type": "markdown",
   "metadata": {
    "id": "X0MmsuYV7jGU"
   },
   "source": [
    "Calculate the mean grade by calculate the total and divided by the number of grades:"
   ]
  },
  {
   "cell_type": "code",
   "execution_count": null,
   "metadata": {
    "colab": {
     "base_uri": "https://localhost:8080/"
    },
    "id": "vCfRaZUM7ejR",
    "outputId": "52bff751-0f78-42b0-aa48-3bc42dee28f9"
   },
   "outputs": [
    {
     "data": {
      "text/plain": [
       "79.4"
      ]
     },
     "execution_count": 18,
     "metadata": {},
     "output_type": "execute_result"
    }
   ],
   "source": [
    "# Mean grade\n",
    "sum(grades) / len(grades)"
   ]
  },
  {
   "cell_type": "markdown",
   "metadata": {
    "id": "WNMBqnYo8mu9"
   },
   "source": [
    "## `mean()`, `median()` and `mode()` functions in `statistics` module\n",
    "\n",
    "The Python Standard Library's `statistics` module provides functions for calculating the mean, median and mode. Each function's argument must be an *iterable* and can apply to tuples, lists and pandas dataframe.\n",
    "\n",
    "To use these capabilities, first import the `statistics` module:"
   ]
  },
  {
   "cell_type": "code",
   "execution_count": null,
   "metadata": {
    "id": "qcGTo_6L9HKz"
   },
   "outputs": [],
   "source": [
    "# Import statistics module\n",
    "import statistics"
   ]
  },
  {
   "cell_type": "markdown",
   "metadata": {
    "id": "rCKTb_6J-VU_"
   },
   "source": [
    "### `mean()`"
   ]
  },
  {
   "cell_type": "code",
   "execution_count": null,
   "metadata": {
    "colab": {
     "base_uri": "https://localhost:8080/"
    },
    "id": "9sZwo1FP9lwM",
    "outputId": "33059145-e840-4184-dcbd-9d11eddef034"
   },
   "outputs": [
    {
     "data": {
      "text/plain": [
       "79.4"
      ]
     },
     "execution_count": 20,
     "metadata": {},
     "output_type": "execute_result"
    }
   ],
   "source": [
    "# Function mean() apply to a list\n",
    "statistics.mean(grades)\n"
   ]
  },
  {
   "cell_type": "code",
   "execution_count": null,
   "metadata": {
    "colab": {
     "base_uri": "https://localhost:8080/"
    },
    "id": "e6ndU84i-BOv",
    "outputId": "dbc675b0-3b76-43af-c1d2-8b3c50c98c66"
   },
   "outputs": [
    {
     "data": {
      "text/plain": [
       "6162876.3"
      ]
     },
     "execution_count": 21,
     "metadata": {},
     "output_type": "execute_result"
    }
   ],
   "source": [
    "# Function mean() apply to a pandas dataframe\n",
    "statistics.mean(state['Population'])"
   ]
  },
  {
   "cell_type": "markdown",
   "metadata": {
    "id": "OrsNlxHG-clQ"
   },
   "source": [
    "### `median()`"
   ]
  },
  {
   "cell_type": "code",
   "execution_count": null,
   "metadata": {
    "colab": {
     "base_uri": "https://localhost:8080/"
    },
    "id": "PEZS1dvu-fRw",
    "outputId": "19020727-18b8-4940-e5de-a70646195331"
   },
   "outputs": [
    {
     "data": {
      "text/plain": [
       "85"
      ]
     },
     "execution_count": 22,
     "metadata": {},
     "output_type": "execute_result"
    }
   ],
   "source": [
    "# Function median() apply to a list\n",
    "statistics.median(grades)"
   ]
  },
  {
   "cell_type": "markdown",
   "metadata": {
    "id": "vVr4f0O3_E8E"
   },
   "source": [
    "### `mode()`"
   ]
  },
  {
   "cell_type": "code",
   "execution_count": null,
   "metadata": {
    "colab": {
     "base_uri": "https://localhost:8080/"
    },
    "id": "5jXvLGPx_HqW",
    "outputId": "9e882fb8-be41-424a-a7e0-68e962ad65eb"
   },
   "outputs": [
    {
     "data": {
      "text/plain": [
       "85"
      ]
     },
     "execution_count": 23,
     "metadata": {},
     "output_type": "execute_result"
    }
   ],
   "source": [
    "# Function mode() apply to a list\n",
    "statistics.mode(grades)"
   ]
  },
  {
   "cell_type": "markdown",
   "metadata": {
    "id": "ve-Mczt2ABgC"
   },
   "source": [
    "The `mode()` function causes a `StatisticsError` for lists like [85, 93, 45, 89, 85, 93] in which there are two or more \"most frequent\" values."
   ]
  },
  {
   "cell_type": "markdown",
   "metadata": {
    "id": "A68G-a9n_iLe"
   },
   "source": [
    "## `sorted()` function\n",
    "\n",
    "To confirm that the median and mode are correct, you can use the built-in `sorted()` function to get a copy of `grades` with its values arranged in increasing order:"
   ]
  },
  {
   "cell_type": "code",
   "execution_count": null,
   "metadata": {
    "colab": {
     "base_uri": "https://localhost:8080/"
    },
    "id": "jJOZv9Vh_4FQ",
    "outputId": "b06e720e-bb15-4ed8-b141-fcf61dc5604f"
   },
   "outputs": [
    {
     "data": {
      "text/plain": [
       "[45, 85, 85, 89, 93]"
      ]
     },
     "execution_count": 24,
     "metadata": {},
     "output_type": "execute_result"
    }
   ],
   "source": [
    "# Sort the object grades\n",
    "sorted(grades)"
   ]
  },
  {
   "cell_type": "markdown",
   "metadata": {
    "id": "DgKjFWRBBRAR"
   },
   "source": [
    "## `pvariancd()` and `pstdev` in `statistics` module"
   ]
  },
  {
   "cell_type": "code",
   "execution_count": null,
   "metadata": {
    "id": "jsgcxYcbDPgg"
   },
   "outputs": [],
   "source": [
    "# Create the data\n",
    "die = [1, 3, 4, 2, 6, 5, 3, 4, 5, 2]"
   ]
  },
  {
   "cell_type": "code",
   "execution_count": null,
   "metadata": {
    "colab": {
     "base_uri": "https://localhost:8080/"
    },
    "id": "vk19ypCfDEMq",
    "outputId": "bdab481a-8898-4f56-b7a0-05d855238716"
   },
   "outputs": [
    {
     "data": {
      "text/plain": [
       "2.25"
      ]
     },
     "execution_count": 33,
     "metadata": {},
     "output_type": "execute_result"
    }
   ],
   "source": [
    "# Population variance\n",
    "statistics.pvariance(die)"
   ]
  },
  {
   "cell_type": "code",
   "execution_count": null,
   "metadata": {
    "colab": {
     "base_uri": "https://localhost:8080/"
    },
    "id": "2lvrV3DNDEEe",
    "outputId": "a26c8ade-466e-45a4-edee-a7b23f05c4f2"
   },
   "outputs": [
    {
     "data": {
      "text/plain": [
       "1.5"
      ]
     },
     "execution_count": 34,
     "metadata": {},
     "output_type": "execute_result"
    }
   ],
   "source": [
    "# Population standard variation\n",
    "statistics.pstdev(die)"
   ]
  },
  {
   "cell_type": "markdown",
   "metadata": {
    "id": "toFm5Gn_Dt90"
   },
   "source": [
    "## `sqrt()` function in `math` module\n",
    "\n",
    "Passing the `pvariance()` function's result to the `math` module's `sqrt()` function confirms the population standard deviation is 1.5:"
   ]
  },
  {
   "cell_type": "code",
   "execution_count": null,
   "metadata": {
    "colab": {
     "base_uri": "https://localhost:8080/"
    },
    "id": "Vh1dpgn1EGQz",
    "outputId": "af52067b-cf0b-401d-9916-b8f3fda13055"
   },
   "outputs": [
    {
     "data": {
      "text/plain": [
       "1.5"
      ]
     },
     "execution_count": 35,
     "metadata": {},
     "output_type": "execute_result"
    }
   ],
   "source": [
    "# Standard deviation by sqrt() function\n",
    "import math      # Import the math module\n",
    "math.sqrt(statistics.pvariance(die))"
   ]
  },
  {
   "cell_type": "markdown",
   "metadata": {
    "id": "gofon9aOEdPm"
   },
   "source": [
    "# This is the end of the document"
   ]
  },
  {
   "cell_type": "code",
   "execution_count": null,
   "metadata": {
    "colab": {
     "base_uri": "https://localhost:8080/"
    },
    "id": "2NnqnEZYBpo6",
    "outputId": "f5d1bf03-3220-413a-ceb9-f0bfb90e82e9"
   },
   "outputs": [
    {
     "data": {
      "text/plain": [
       "3.5"
      ]
     },
     "execution_count": 26,
     "metadata": {},
     "output_type": "execute_result"
    }
   ],
   "source": [
    "die = [1, 3, 4, 2, 6, 5, 3, 4, 5, 2]\n",
    "statistics.mean(die)"
   ]
  },
  {
   "cell_type": "code",
   "execution_count": null,
   "metadata": {
    "colab": {
     "base_uri": "https://localhost:8080/"
    },
    "id": "jQ1ce4tUB-ds",
    "outputId": "c77019e2-5e6b-4c76-fd3f-d0cecf249e05"
   },
   "outputs": [
    {
     "data": {
      "text/plain": [
       "[-2.5, -0.5, 0.5, -1.5, 2.5, 1.5, -0.5, 0.5, 1.5, -1.5]"
      ]
     },
     "execution_count": 31,
     "metadata": {},
     "output_type": "execute_result"
    }
   ],
   "source": [
    "diff = list(map(lambda x: x - 3.5, die))\n",
    "diff"
   ]
  }
 ],
 "metadata": {
  "colab": {
   "authorship_tag": "ABX9TyMu48XuUeBPaGJiy3VZenBf",
   "include_colab_link": true,
   "provenance": [],
   "toc_visible": true
  },
  "kernelspec": {
   "display_name": "Python 3 (ipykernel)",
   "language": "python",
   "name": "python3"
  },
  "language_info": {
   "codemirror_mode": {
    "name": "ipython",
    "version": 3
   },
   "file_extension": ".py",
   "mimetype": "text/x-python",
   "name": "python",
   "nbconvert_exporter": "python",
   "pygments_lexer": "ipython3",
   "version": "3.11.5"
  }
 },
 "nbformat": 4,
 "nbformat_minor": 4
}
